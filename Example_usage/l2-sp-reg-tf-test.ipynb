{
 "cells": [
  {
   "cell_type": "code",
   "execution_count": 1,
   "id": "c939c69d",
   "metadata": {
    "execution": {
     "iopub.execute_input": "2023-02-15T18:58:38.241314Z",
     "iopub.status.busy": "2023-02-15T18:58:38.240541Z",
     "iopub.status.idle": "2023-02-15T18:58:46.577473Z",
     "shell.execute_reply": "2023-02-15T18:58:46.575294Z"
    },
    "papermill": {
     "duration": 8.350042,
     "end_time": "2023-02-15T18:58:46.581310",
     "exception": false,
     "start_time": "2023-02-15T18:58:38.231268",
     "status": "completed"
    },
    "tags": []
   },
   "outputs": [],
   "source": [
    "import tensorflow as tf\n",
    "import numpy as np\n",
    "from matplotlib import pyplot as plt"
   ]
  },
  {
   "cell_type": "code",
   "execution_count": 2,
   "id": "6bec36f6",
   "metadata": {
    "execution": {
     "iopub.execute_input": "2023-02-15T18:58:46.594988Z",
     "iopub.status.busy": "2023-02-15T18:58:46.594155Z",
     "iopub.status.idle": "2023-02-15T18:59:05.230975Z",
     "shell.execute_reply": "2023-02-15T18:59:05.228704Z"
    },
    "papermill": {
     "duration": 18.647501,
     "end_time": "2023-02-15T18:59:05.234175",
     "exception": false,
     "start_time": "2023-02-15T18:58:46.586674",
     "status": "completed"
    },
    "tags": []
   },
   "outputs": [
    {
     "name": "stdout",
     "output_type": "stream",
     "text": [
      "Collecting git+https://github.com/ArjunDeshmukh/Useful_Utilities_For_ML\r\n",
      "  Cloning https://github.com/ArjunDeshmukh/Useful_Utilities_For_ML to /tmp/pip-req-build-fsln5klv\r\n",
      "  Running command git clone --filter=blob:none --quiet https://github.com/ArjunDeshmukh/Useful_Utilities_For_ML /tmp/pip-req-build-fsln5klv\r\n",
      "  Resolved https://github.com/ArjunDeshmukh/Useful_Utilities_For_ML to commit 64fd97c65a302de0ec38122959b472ee3523e27b\r\n",
      "  Preparing metadata (setup.py) ... \u001b[?25l-\b \bdone\r\n",
      "\u001b[?25hBuilding wheels for collected packages: useful-utilities-for-ml\r\n",
      "  Building wheel for useful-utilities-for-ml (setup.py) ... \u001b[?25l-\b \b\\\b \bdone\r\n",
      "\u001b[?25h  Created wheel for useful-utilities-for-ml: filename=useful_utilities_for_ml-1.0.0-py3-none-any.whl size=6645 sha256=a07fd01f0ce4212f387c60696905a6c1cda42579b1dc14c9378fdc5ca487fbbf\r\n",
      "  Stored in directory: /tmp/pip-ephem-wheel-cache-k4_jd77g/wheels/22/51/83/a4e532175093b4f6e1ef9e6424feeac5635c4f5d7b494050ba\r\n",
      "Successfully built useful-utilities-for-ml\r\n",
      "Installing collected packages: useful-utilities-for-ml\r\n",
      "Successfully installed useful-utilities-for-ml-1.0.0\r\n",
      "\u001b[33mWARNING: Running pip as the 'root' user can result in broken permissions and conflicting behaviour with the system package manager. It is recommended to use a virtual environment instead: https://pip.pypa.io/warnings/venv\u001b[0m\u001b[33m\r\n",
      "\u001b[0m"
     ]
    }
   ],
   "source": [
    "!pip install git+https://github.com/ArjunDeshmukh/Useful_Utilities_For_ML"
   ]
  },
  {
   "cell_type": "code",
   "execution_count": 3,
   "id": "1583648b",
   "metadata": {
    "execution": {
     "iopub.execute_input": "2023-02-15T18:59:05.250129Z",
     "iopub.status.busy": "2023-02-15T18:59:05.249214Z",
     "iopub.status.idle": "2023-02-15T18:59:06.790757Z",
     "shell.execute_reply": "2023-02-15T18:59:06.788774Z"
    },
    "papermill": {
     "duration": 1.553296,
     "end_time": "2023-02-15T18:59:06.794239",
     "exception": false,
     "start_time": "2023-02-15T18:59:05.240943",
     "status": "completed"
    },
    "tags": []
   },
   "outputs": [],
   "source": [
    "from useful_utilities_for_ml.addkernelregularization_tf import add_kernel_regularization "
   ]
  },
  {
   "cell_type": "markdown",
   "id": "d6f8f480",
   "metadata": {
    "papermill": {
     "duration": 0.005255,
     "end_time": "2023-02-15T18:59:06.805333",
     "exception": false,
     "start_time": "2023-02-15T18:59:06.800078",
     "status": "completed"
    },
    "tags": []
   },
   "source": [
    "## Generate synthetic straight line data"
   ]
  },
  {
   "cell_type": "code",
   "execution_count": 4,
   "id": "4aeb73b3",
   "metadata": {
    "execution": {
     "iopub.execute_input": "2023-02-15T18:59:06.820755Z",
     "iopub.status.busy": "2023-02-15T18:59:06.820274Z",
     "iopub.status.idle": "2023-02-15T18:59:07.103385Z",
     "shell.execute_reply": "2023-02-15T18:59:07.101724Z"
    },
    "papermill": {
     "duration": 0.295059,
     "end_time": "2023-02-15T18:59:07.107002",
     "exception": false,
     "start_time": "2023-02-15T18:59:06.811943",
     "status": "completed"
    },
    "tags": []
   },
   "outputs": [
    {
     "data": {
      "text/plain": [
       "Text(0, 0.5, 'Y')"
      ]
     },
     "execution_count": 4,
     "metadata": {},
     "output_type": "execute_result"
    },
    {
     "data": {
      "image/png": "[encoded data removed]",
      "text/plain": [
       "<Figure size 432x288 with 1 Axes>"
      ]
     },
     "metadata": {
      "needs_background": "light"
     },
     "output_type": "display_data"
    }
   ],
   "source": [
    "x = np.arange(1, 11)\n",
    "y = x\n",
    "\n",
    "plt.plot(x, y)\n",
    "plt.scatter(x, y)\n",
    "plt.xlabel(\"X\")\n",
    "plt.ylabel(\"Y\")"
   ]
  },
  {
   "cell_type": "markdown",
   "id": "ef9022d8",
   "metadata": {
    "papermill": {
     "duration": 0.006649,
     "end_time": "2023-02-15T18:59:07.121064",
     "exception": false,
     "start_time": "2023-02-15T18:59:07.114415",
     "status": "completed"
    },
    "tags": []
   },
   "source": [
    "## Fit a model with more than required parameters to synthetic data"
   ]
  },
  {
   "cell_type": "code",
   "execution_count": 5,
   "id": "589467b1",
   "metadata": {
    "execution": {
     "iopub.execute_input": "2023-02-15T18:59:07.136430Z",
     "iopub.status.busy": "2023-02-15T18:59:07.135610Z",
     "iopub.status.idle": "2023-02-15T18:59:10.766022Z",
     "shell.execute_reply": "2023-02-15T18:59:10.764368Z"
    },
    "papermill": {
     "duration": 3.641566,
     "end_time": "2023-02-15T18:59:10.769073",
     "exception": false,
     "start_time": "2023-02-15T18:59:07.127507",
     "status": "completed"
    },
    "tags": []
   },
   "outputs": [
    {
     "name": "stderr",
     "output_type": "stream",
     "text": [
      "2023-02-15 18:59:07.192016: I tensorflow/core/common_runtime/process_util.cc:146] Creating new thread pool with default inter op setting: 2. Tune using inter_op_parallelism_threads for best performance.\n",
      "2023-02-15 18:59:07.687543: I tensorflow/compiler/mlir/mlir_graph_optimization_pass.cc:185] None of the MLIR Optimization Passes are enabled (registered 2)\n"
     ]
    },
    {
     "data": {
      "text/plain": [
       "<keras.callbacks.History at 0x7f66982f1a10>"
      ]
     },
     "execution_count": 5,
     "metadata": {},
     "output_type": "execute_result"
    }
   ],
   "source": [
    "model = tf.keras.Sequential([tf.keras.layers.Dense(100, activation = 'relu', input_shape = (1,)), tf.keras.layers.Dense(1, activation = None)])\n",
    "model.compile(optimizer = tf.keras.optimizers.SGD(learning_rate=0.01), loss = 'MSE')\n",
    "model.fit(x, y, epochs=500, verbose = 0)"
   ]
  },
  {
   "cell_type": "code",
   "execution_count": 6,
   "id": "a3d212dd",
   "metadata": {
    "execution": {
     "iopub.execute_input": "2023-02-15T18:59:10.785801Z",
     "iopub.status.busy": "2023-02-15T18:59:10.784978Z",
     "iopub.status.idle": "2023-02-15T18:59:11.008371Z",
     "shell.execute_reply": "2023-02-15T18:59:11.006650Z"
    },
    "papermill": {
     "duration": 0.23487,
     "end_time": "2023-02-15T18:59:11.011089",
     "exception": false,
     "start_time": "2023-02-15T18:59:10.776219",
     "status": "completed"
    },
    "tags": []
   },
   "outputs": [
    {
     "name": "stdout",
     "output_type": "stream",
     "text": [
      "RMSE:  0.0014561572378525357\n"
     ]
    }
   ],
   "source": [
    "x_test = np.array([0.5, 1.5, 2.5, 3.5, 4.5])\n",
    "y_test = x_test\n",
    "loss = model.evaluate(x_test, y_test, verbose = 0)\n",
    "print('RMSE: ', np.sqrt(loss))"
   ]
  },
  {
   "cell_type": "markdown",
   "id": "32d49b69",
   "metadata": {
    "papermill": {
     "duration": 0.007087,
     "end_time": "2023-02-15T18:59:11.025087",
     "exception": false,
     "start_time": "2023-02-15T18:59:11.018000",
     "status": "completed"
    },
    "tags": []
   },
   "source": [
    "## Generate synthetic data with noise"
   ]
  },
  {
   "cell_type": "code",
   "execution_count": 7,
   "id": "13944b35",
   "metadata": {
    "execution": {
     "iopub.execute_input": "2023-02-15T18:59:11.041961Z",
     "iopub.status.busy": "2023-02-15T18:59:11.040440Z",
     "iopub.status.idle": "2023-02-15T18:59:11.053522Z",
     "shell.execute_reply": "2023-02-15T18:59:11.051296Z"
    },
    "papermill": {
     "duration": 0.02465,
     "end_time": "2023-02-15T18:59:11.056865",
     "exception": false,
     "start_time": "2023-02-15T18:59:11.032215",
     "status": "completed"
    },
    "tags": []
   },
   "outputs": [],
   "source": [
    "x = np.arange(1, 11)\n",
    "y_with_noise = x + 2*np.random.default_rng().uniform(low = -1, high = 1, size=(10, ))"
   ]
  },
  {
   "cell_type": "code",
   "execution_count": 8,
   "id": "94f6c7d9",
   "metadata": {
    "execution": {
     "iopub.execute_input": "2023-02-15T18:59:11.072994Z",
     "iopub.status.busy": "2023-02-15T18:59:11.072449Z",
     "iopub.status.idle": "2023-02-15T18:59:11.354564Z",
     "shell.execute_reply": "2023-02-15T18:59:11.353039Z"
    },
    "papermill": {
     "duration": 0.293546,
     "end_time": "2023-02-15T18:59:11.357624",
     "exception": false,
     "start_time": "2023-02-15T18:59:11.064078",
     "status": "completed"
    },
    "tags": []
   },
   "outputs": [
    {
     "data": {
      "text/plain": [
       "<matplotlib.legend.Legend at 0x7f6697e6db10>"
      ]
     },
     "execution_count": 8,
     "metadata": {},
     "output_type": "execute_result"
    },
    {
     "data": {
      "image/png": "[encoded data removed]",
      "text/plain": [
       "<Figure size 432x288 with 1 Axes>"
      ]
     },
     "metadata": {
      "needs_background": "light"
     },
     "output_type": "display_data"
    }
   ],
   "source": [
    "plt.plot(x, y, color = 'blue')\n",
    "plt.scatter(x, y_with_noise, color = 'red')\n",
    "plt.xlabel(\"X\")\n",
    "plt.ylabel(\"Y\")\n",
    "plt.legend(['Expected Fit', 'Data with noise'])"
   ]
  },
  {
   "cell_type": "markdown",
   "id": "33d51495",
   "metadata": {
    "papermill": {
     "duration": 0.007582,
     "end_time": "2023-02-15T18:59:11.372153",
     "exception": false,
     "start_time": "2023-02-15T18:59:11.364571",
     "status": "completed"
    },
    "tags": []
   },
   "source": [
    "## Add L2 regularization to the pre-trained model, then tain and test it"
   ]
  },
  {
   "cell_type": "code",
   "execution_count": 9,
   "id": "47e20fad",
   "metadata": {
    "execution": {
     "iopub.execute_input": "2023-02-15T18:59:11.388027Z",
     "iopub.status.busy": "2023-02-15T18:59:11.387550Z",
     "iopub.status.idle": "2023-02-15T18:59:13.484554Z",
     "shell.execute_reply": "2023-02-15T18:59:13.483140Z"
    },
    "papermill": {
     "duration": 2.109022,
     "end_time": "2023-02-15T18:59:13.487978",
     "exception": false,
     "start_time": "2023-02-15T18:59:11.378956",
     "status": "completed"
    },
    "tags": []
   },
   "outputs": [
    {
     "data": {
      "text/plain": [
       "<keras.callbacks.History at 0x7f6697e6d990>"
      ]
     },
     "execution_count": 9,
     "metadata": {},
     "output_type": "execute_result"
    }
   ],
   "source": [
    "model_wo_reg = tf.keras.Sequential([tf.keras.layers.Dense(100, activation = 'relu', input_shape = (1,)), tf.keras.layers.Dense(1, activation = None)])\n",
    "model_wo_reg.set_weights(model.get_weights())\n",
    "model_wo_reg = add_kernel_regularization(model = model_wo_reg, regularization_weight = 0.01, regularization_type = 'L2')\n",
    "model_wo_reg.compile(optimizer = tf.keras.optimizers.SGD(learning_rate=0.01), loss = 'MSE')\n",
    "model_wo_reg.fit(x, y_with_noise, epochs=500, verbose = 0)"
   ]
  },
  {
   "cell_type": "code",
   "execution_count": 10,
   "id": "129cc645",
   "metadata": {
    "execution": {
     "iopub.execute_input": "2023-02-15T18:59:13.506184Z",
     "iopub.status.busy": "2023-02-15T18:59:13.505713Z",
     "iopub.status.idle": "2023-02-15T18:59:13.707472Z",
     "shell.execute_reply": "2023-02-15T18:59:13.705657Z"
    },
    "papermill": {
     "duration": 0.216072,
     "end_time": "2023-02-15T18:59:13.711377",
     "exception": false,
     "start_time": "2023-02-15T18:59:13.495305",
     "status": "completed"
    },
    "tags": []
   },
   "outputs": [
    {
     "name": "stdout",
     "output_type": "stream",
     "text": [
      "RMSE:  0.22177946895116957\n"
     ]
    }
   ],
   "source": [
    "x_test = np.array([0.5, 1.5, 2.5, 3.5, 4.5])\n",
    "y_test = x_test\n",
    "loss = model_wo_reg.evaluate(x_test, y_test, verbose = 0)\n",
    "print('RMSE: ', np.sqrt(loss))"
   ]
  },
  {
   "cell_type": "markdown",
   "id": "50338c49",
   "metadata": {
    "papermill": {
     "duration": 0.007017,
     "end_time": "2023-02-15T18:59:13.726907",
     "exception": false,
     "start_time": "2023-02-15T18:59:13.719890",
     "status": "completed"
    },
    "tags": []
   },
   "source": [
    "## Add L2-SP regularization to the pre-trained model, then tain and test it"
   ]
  },
  {
   "cell_type": "code",
   "execution_count": 11,
   "id": "375b2432",
   "metadata": {
    "execution": {
     "iopub.execute_input": "2023-02-15T18:59:13.744820Z",
     "iopub.status.busy": "2023-02-15T18:59:13.744321Z",
     "iopub.status.idle": "2023-02-15T18:59:15.829195Z",
     "shell.execute_reply": "2023-02-15T18:59:15.827522Z"
    },
    "papermill": {
     "duration": 2.100161,
     "end_time": "2023-02-15T18:59:15.834074",
     "exception": false,
     "start_time": "2023-02-15T18:59:13.733913",
     "status": "completed"
    },
    "tags": []
   },
   "outputs": [
    {
     "data": {
      "text/plain": [
       "<keras.callbacks.History at 0x7f66782e0810>"
      ]
     },
     "execution_count": 11,
     "metadata": {},
     "output_type": "execute_result"
    }
   ],
   "source": [
    "model_reg = tf.keras.Sequential([tf.keras.layers.Dense(100, activation = 'relu', input_shape = (1,)), tf.keras.layers.Dense(1, activation = None)])\n",
    "model_reg.set_weights(model.get_weights())\n",
    "model_reg = add_kernel_regularization(model = model_reg, regularization_weight = 0.01, regularization_type = 'L2_SP')\n",
    "model_reg.compile(optimizer = tf.keras.optimizers.SGD(learning_rate=0.01), loss = 'MSE')\n",
    "model_reg.fit(x, y_with_noise, epochs=500, verbose = 0)"
   ]
  },
  {
   "cell_type": "code",
   "execution_count": 12,
   "id": "78f0dc91",
   "metadata": {
    "execution": {
     "iopub.execute_input": "2023-02-15T18:59:15.855627Z",
     "iopub.status.busy": "2023-02-15T18:59:15.854260Z",
     "iopub.status.idle": "2023-02-15T18:59:16.062420Z",
     "shell.execute_reply": "2023-02-15T18:59:16.060612Z"
    },
    "papermill": {
     "duration": 0.223108,
     "end_time": "2023-02-15T18:59:16.066237",
     "exception": false,
     "start_time": "2023-02-15T18:59:15.843129",
     "status": "completed"
    },
    "tags": []
   },
   "outputs": [
    {
     "name": "stdout",
     "output_type": "stream",
     "text": [
      "RMSE:  0.09361942953942534\n"
     ]
    }
   ],
   "source": [
    "x_test = np.array([0.5, 1.5, 2.5, 3.5, 4.5])\n",
    "y_test = x_test\n",
    "loss = model_reg.evaluate(x_test, y_test, verbose = 0)\n",
    "print('RMSE: ', np.sqrt(loss))"
   ]
  },
  {
   "cell_type": "code",
   "execution_count": null,
   "id": "7a159c98",
   "metadata": {
    "papermill": {
     "duration": 0.007114,
     "end_time": "2023-02-15T18:59:16.080426",
     "exception": false,
     "start_time": "2023-02-15T18:59:16.073312",
     "status": "completed"
    },
    "tags": []
   },
   "outputs": [],
   "source": []
  }
 ],
 "metadata": {
  "kernelspec": {
   "display_name": "Python 3",
   "language": "python",
   "name": "python3"
  },
  "language_info": {
   "codemirror_mode": {
    "name": "ipython",
    "version": 3
   },
   "file_extension": ".py",
   "mimetype": "text/x-python",
   "name": "python",
   "nbconvert_exporter": "python",
   "pygments_lexer": "ipython3",
   "version": "3.7.12"
  },
  "papermill": {
   "default_parameters": {},
   "duration": 54.065522,
   "end_time": "2023-02-15T18:59:18.818916",
   "environment_variables": {},
   "exception": null,
   "input_path": "__notebook__.ipynb",
   "output_path": "__notebook__.ipynb",
   "parameters": {},
   "start_time": "2023-02-15T18:58:24.753394",
   "version": "2.3.4"
  }
 },
 "nbformat": 4,
 "nbformat_minor": 5
}
